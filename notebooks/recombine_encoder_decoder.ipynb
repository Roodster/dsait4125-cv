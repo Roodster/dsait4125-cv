{
 "cells": [
  {
   "metadata": {
    "ExecuteTime": {
     "end_time": "2025-03-27T15:57:02.402074Z",
     "start_time": "2025-03-27T15:57:02.395859Z"
    }
   },
   "cell_type": "code",
   "source": [
    "from array import array\n",
    "\n",
    "import numpy as np\n",
    "import torch\n",
    "from sklearn.utils import shuffle\n",
    "\n",
    "from src.args import Args\n",
    "from src.networks import VAE\n",
    "from src.networks.maga_net import MAGANet\n",
    "from src.registry import setup\n",
    "from src.common.utils import set_seed\n",
    "from src.dataset import DspritesDataset, get_dataloaders_2element\n",
    "\n",
    "import matplotlib.pyplot as plt\n",
    "# from sklearn.cluster import DBSCAN\n",
    "from sklearn.manifold import TSNE\n",
    "import umap\n",
    "from mpl_toolkits.mplot3d import Axes3D\n",
    "import plotly.express as px\n",
    "from sklearn.decomposition import PCA\n",
    "\n",
    "import plotly.graph_objects as go"
   ],
   "id": "64a1d2b85805c54b",
   "outputs": [],
   "execution_count": 65
  },
  {
   "cell_type": "code",
   "id": "initial_id",
   "metadata": {
    "collapsed": true,
    "ExecuteTime": {
     "end_time": "2025-03-27T15:57:02.411260Z",
     "start_time": "2025-03-27T15:57:02.407042Z"
    }
   },
   "source": [
    "def prepare_model(path_maga, path_vae):\n",
    "    args1 = Args(file=f\"{path_maga}/hyperparameters.yaml\")\n",
    "    args2 = Args(file=f\"{path_vae}/hyperparameters.yaml\")\n",
    "    \n",
    "    if args1.model_name == \"maga\":\n",
    "        model_maga = MAGANet(args1)\n",
    "        model_maga.load_state_dict(torch.load(\n",
    "            f\"{path_maga}/models/model_2element.pth\"))\n",
    "        model_maga = model_maga.to(args1.device)\n",
    "    \n",
    "    if args2.model_name == \"vae\":\n",
    "        model_vae = VAE(args2)\n",
    "        model_vae.load_state_dict(torch.load(\n",
    "            f\"{path_vae}/models/model_2element.pth\"))\n",
    "        model_vae = model_vae.to(args2.device)\n",
    "        \n",
    "    single_output = False\n",
    "    test_data = DspritesDataset(\"../data/2d/test.npz\", single_output=single_output)\n",
    "    _, test_loader = get_dataloaders_2element(\n",
    "            None, test_data,\n",
    "            batch_size=args1.batch_size,\n",
    "            shuffle=False\n",
    "    )\n",
    "    return model_maga, model_vae, test_loader, args1, args2"
   ],
   "outputs": [],
   "execution_count": 66
  },
  {
   "metadata": {
    "ExecuteTime": {
     "end_time": "2025-03-27T15:57:02.558003Z",
     "start_time": "2025-03-27T15:57:02.509669Z"
    }
   },
   "cell_type": "code",
   "source": [
    "path_maga = \"../outputs/run_dev_maga/element_3_300\"\n",
    "path_vae = \"../outputs/run_dev_vae/seed_2_250320251556\"\n",
    "model_maga, model_vae, test_loader, args1, args2 = prepare_model(path_maga, path_vae)"
   ],
   "id": "3726b6d0e869c156",
   "outputs": [],
   "execution_count": 67
  },
  {
   "metadata": {
    "ExecuteTime": {
     "end_time": "2025-03-27T15:57:02.708304Z",
     "start_time": "2025-03-27T15:57:02.657228Z"
    }
   },
   "cell_type": "code",
   "source": [
    "batch_idx, (x1, x2) = next(enumerate(test_loader))\n",
    "print(x1.shape)\n",
    "x1, x2 = x1.to(args1.device), x2.to(args1.device)  # Move tensors to GPU if available"
   ],
   "id": "6777391ee59a5ae1",
   "outputs": [
    {
     "name": "stdout",
     "output_type": "stream",
     "text": [
      "torch.Size([64, 1, 64, 64])\n"
     ]
    }
   ],
   "execution_count": 68
  },
  {
   "metadata": {},
   "cell_type": "markdown",
   "source": "## Use maga encode, vae decode",
   "id": "a98cb5ef8a36f43b"
  },
  {
   "metadata": {
    "ExecuteTime": {
     "end_time": "2025-03-27T15:57:02.819777Z",
     "start_time": "2025-03-27T15:57:02.811385Z"
    }
   },
   "cell_type": "code",
   "source": [
    "# maga model\n",
    "z, mu1, logvar1, mu2, logvar2, decoded_x1, decoded_x2  = model_maga(x1, x2)  # Forward pass\n",
    "decoded_x2 = decoded_x2.cpu().detach().squeeze().numpy()"
   ],
   "id": "b5e41d1c3cf21c85",
   "outputs": [],
   "execution_count": 69
  },
  {
   "metadata": {
    "ExecuteTime": {
     "end_time": "2025-03-27T15:57:02.924466Z",
     "start_time": "2025-03-27T15:57:02.920822Z"
    }
   },
   "cell_type": "code",
   "source": [
    "# vae decoder\n",
    "x = model_vae.decoder_(z)\n",
    "x = x.cpu().detach().squeeze().numpy()"
   ],
   "id": "24f38373efffcb6d",
   "outputs": [],
   "execution_count": 70
  },
  {
   "metadata": {
    "ExecuteTime": {
     "end_time": "2025-03-27T15:57:03.030566Z",
     "start_time": "2025-03-27T15:57:03.025545Z"
    }
   },
   "cell_type": "code",
   "source": [
    "# vae encoder and decoder\n",
    "x_vae, mu, logvar = model_vae(x2)\n",
    "x_vae = x_vae.cpu().detach().squeeze().numpy()"
   ],
   "id": "95e21ea692ab2a94",
   "outputs": [],
   "execution_count": 71
  },
  {
   "metadata": {
    "ExecuteTime": {
     "end_time": "2025-03-27T15:57:03.130274Z",
     "start_time": "2025-03-27T15:57:03.126139Z"
    }
   },
   "cell_type": "code",
   "source": "x_gt = x2.cpu().detach().squeeze().numpy()",
   "id": "e90ee75f7d6acec",
   "outputs": [],
   "execution_count": 72
  },
  {
   "metadata": {
    "ExecuteTime": {
     "end_time": "2025-03-27T15:57:03.408694Z",
     "start_time": "2025-03-27T15:57:03.228720Z"
    }
   },
   "cell_type": "code",
   "source": [
    "fig, axes = plt.subplots(1, 3, figsize=(12, 4))\n",
    "\n",
    "# First subplot\n",
    "axes[0].imshow(x_gt[0],cmap='gray')\n",
    "axes[0].set_title(\"Ground Truth\")\n",
    "axes[0].set_xlabel(\"\")\n",
    "axes[0].set_ylabel(\"\")\n",
    "\n",
    "# Second subplot\n",
    "axes[1].imshow(x[0],cmap='gray')\n",
    "axes[1].set_title(\"MAGA encoder VAE decoder\")\n",
    "axes[1].set_xlabel(\"\")\n",
    "axes[1].set_ylabel(\"\")\n",
    "\n",
    "# Third subplot\n",
    "axes[2].imshow(x_vae[0],cmap='gray')\n",
    "axes[2].set_title(\"VAE encoder VAE decoder\")\n",
    "axes[2].set_xlabel(\"\")\n",
    "axes[2].set_ylabel(\"\")\n",
    "\n",
    "\n",
    "# Adjust layout for better spacing\n",
    "plt.tight_layout()\n",
    "\n",
    "# Show the plots\n",
    "plt.show()"
   ],
   "id": "195267c8aa2c4825",
   "outputs": [
    {
     "data": {
      "text/plain": [
       "<Figure size 1200x400 with 3 Axes>"
      ],
      "image/png": "[encoded data removed]"
     },
     "metadata": {},
     "output_type": "display_data"
    }
   ],
   "execution_count": 73
  },
  {
   "metadata": {},
   "cell_type": "markdown",
   "source": "## VAE encode, MAGA decode",
   "id": "5d96c24e753ad863"
  },
  {
   "metadata": {
    "ExecuteTime": {
     "end_time": "2025-03-27T15:57:03.513460Z",
     "start_time": "2025-03-27T15:57:03.506664Z"
    }
   },
   "cell_type": "code",
   "source": [
    "x1_vae, mu1, logvar1 = model_vae(x1)\n",
    "z1 = model_vae.reparameterize(mu1, logvar1)\n",
    "x2_vae, mu2, logvar2 = model_vae(x2)\n",
    "z2 = model_vae.reparameterize(mu2, logvar2)\n",
    "z = z2-z1"
   ],
   "id": "e1e73c2e2f755298",
   "outputs": [],
   "execution_count": 74
  },
  {
   "metadata": {
    "ExecuteTime": {
     "end_time": "2025-03-27T15:57:03.616260Z",
     "start_time": "2025-03-27T15:57:03.610544Z"
    }
   },
   "cell_type": "code",
   "source": [
    "x_maga = model_maga.decoder_(z,x1)\n",
    "x_maga = x_maga.cpu().detach().squeeze().numpy()"
   ],
   "id": "f0cabc0582951b62",
   "outputs": [],
   "execution_count": 75
  },
  {
   "metadata": {
    "ExecuteTime": {
     "end_time": "2025-03-27T15:57:03.889454Z",
     "start_time": "2025-03-27T15:57:03.714166Z"
    }
   },
   "cell_type": "code",
   "source": [
    "fig, axes = plt.subplots(1, 3, figsize=(12, 4))\n",
    "\n",
    "# First subplot\n",
    "axes[0].imshow(x_gt[0],cmap='gray')\n",
    "axes[0].set_title(\"Ground Truth\")\n",
    "axes[0].set_xlabel(\"\")\n",
    "axes[0].set_ylabel(\"\")\n",
    "\n",
    "# Second subplot\n",
    "axes[1].imshow(x_maga[0],cmap='gray')\n",
    "axes[1].set_title(\"VAE encoder MAGA decoder\")\n",
    "axes[1].set_xlabel(\"\")\n",
    "axes[1].set_ylabel(\"\")\n",
    "\n",
    "# Third subplot\n",
    "axes[2].imshow(decoded_x2[0],cmap='gray')\n",
    "axes[2].set_title(\"MAGA encoder MAGA decoder\")\n",
    "axes[2].set_xlabel(\"\")\n",
    "axes[2].set_ylabel(\"\")\n",
    "\n",
    "\n",
    "# Adjust layout for better spacing\n",
    "plt.tight_layout()\n",
    "\n",
    "# Show the plots\n",
    "plt.show()"
   ],
   "id": "9720b75db9fd1c98",
   "outputs": [
    {
     "data": {
      "text/plain": [
       "<Figure size 1200x400 with 3 Axes>"
      ],
      "image/png": "[encoded data removed]"
     },
     "metadata": {},
     "output_type": "display_data"
    }
   ],
   "execution_count": 76
  },
  {
   "metadata": {
    "ExecuteTime": {
     "end_time": "2025-03-27T15:57:03.992759Z",
     "start_time": "2025-03-27T15:57:03.990551Z"
    }
   },
   "cell_type": "code",
   "source": "",
   "id": "758703ce96d3af97",
   "outputs": [],
   "execution_count": null
  }
 ],
 "metadata": {
  "kernelspec": {
   "display_name": "Python 3",
   "language": "python",
   "name": "python3"
  },
  "language_info": {
   "codemirror_mode": {
    "name": "ipython",
    "version": 2
   },
   "file_extension": ".py",
   "mimetype": "text/x-python",
   "name": "python",
   "nbconvert_exporter": "python",
   "pygments_lexer": "ipython2",
   "version": "2.7.6"
  }
 },
 "nbformat": 4,
 "nbformat_minor": 5
}
