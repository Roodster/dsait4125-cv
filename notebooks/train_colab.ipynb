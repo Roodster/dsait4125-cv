{
  "cells": [
    {
      "cell_type": "markdown",
      "metadata": {
        "id": "6RCchPzcMIX6"
      },
      "source": [
        "# IMPORTS"
      ]
    },
    {
      "cell_type": "markdown",
      "metadata": {},
      "source": []
    },
    {
      "cell_type": "code",
      "execution_count": null,
      "metadata": {
        "colab": {
          "base_uri": "https://localhost:8080/"
        },
        "id": "-6b3aIWuOZ1a",
        "outputId": "09a6857d-9862-4980-aa6b-abc9229c5c9c"
      },
      "outputs": [
        {
          "name": "stdout",
          "output_type": "stream",
          "text": [
            "Drive already mounted at /content/drive; to attempt to forcibly remount, call drive.mount(\"/content/drive\", force_remount=True).\n"
          ]
        }
      ],
      "source": [
        "from google.colab import drive\n",
        "drive.mount('/content/drive')"
      ]
    },
    {
      "cell_type": "code",
      "execution_count": null,
      "metadata": {},
      "outputs": [],
      "source": [
        "!pip install git+https:github.com/Roodster/dsait4125-cv.git"
      ]
    },
    {
      "cell_type": "code",
      "execution_count": null,
      "metadata": {
        "execution": {
          "iopub.execute_input": "2025-02-22T07:55:06.746758Z",
          "iopub.status.busy": "2025-02-22T07:55:06.746432Z",
          "iopub.status.idle": "2025-02-22T07:55:06.766750Z",
          "shell.execute_reply": "2025-02-22T07:55:06.765356Z",
          "shell.execute_reply.started": "2025-02-22T07:55:06.746719Z"
        },
        "id": "RCjXujhCMIX7",
        "trusted": true
      },
      "outputs": [],
      "source": [
        "import os\n",
        "from types import SimpleNamespace\n",
        "from datetime import datetime\n",
        "import gdown\n",
        "\n",
        "\n",
        "# Create dataset objects using the DspritesDataset class\n",
        "from src.args import Args\n",
        "from src.registry import setup\n",
        "from src.dataset import DspritesDataset, get_dataloaders_2element, BinarySyntheticDataset, get_dataloaders\n",
        "from src.experiment import Experiment\n",
        "from src.common.utils import set_seed\n"
      ]
    },
    {
      "cell_type": "markdown",
      "metadata": {},
      "source": [
        "# CONSTANTS"
      ]
    },
    {
      "cell_type": "code",
      "execution_count": null,
      "metadata": {},
      "outputs": [],
      "source": [
        "\"\"\" BASE PATH TO DRIVE TO STORE OUTPUTS\"\"\"\n",
        "ROOT = \"/content/drive/MyDrive/\""
      ]
    },
    {
      "cell_type": "markdown",
      "metadata": {
        "id": "_VqGUA1CMIX7"
      },
      "source": [
        "# IO"
      ]
    },
    {
      "cell_type": "code",
      "execution_count": 1,
      "metadata": {
        "colab": {
          "base_uri": "https://localhost:8080/",
          "height": 106
        },
        "id": "wDBmg05ASYHk",
        "outputId": "03e6176c-6021-4e5c-98b9-bd2f36d97e2c"
      },
      "outputs": [
        {
          "ename": "SyntaxError",
          "evalue": "expression expected after dictionary key and ':' (<ipython-input-1-52ee181a6b6a>, line 7)",
          "output_type": "error",
          "traceback": [
            "\u001b[0;36m  File \u001b[0;32m\"<ipython-input-1-52ee181a6b6a>\"\u001b[0;36m, line \u001b[0;32m7\u001b[0m\n\u001b[0;31m    'test':\u001b[0m\n\u001b[0m          ^\u001b[0m\n\u001b[0;31mSyntaxError\u001b[0m\u001b[0;31m:\u001b[0m expression expected after dictionary key and ':'\n"
          ]
        }
      ],
      "source": [
        "\"\"\" LOAD IN DATA \"\"\"\n",
        "\n",
        "def load_datasets():\n",
        "    # Define the file IDs from your Google Drive shareable links\n",
        "    file_ids = {\n",
        "        'train.npz': '',\n",
        "        'test.npz': '1hV-6Q29ixhqqrmCro8WN9WI6NxfSTEE5' \n",
        "    }\n",
        "\n",
        "    # Create a directory to store the downloaded files\n",
        "    os.makedirs('/data/2d', exist_ok=True)\n",
        "    \n",
        "    # Download each file from Google Drive\n",
        "    for file_name, file_id in file_ids.items():\n",
        "        url = f'https://drive.google.com/uc?id={file_id}'\n",
        "        output = f'/content/data/2d/{file_name}.npz'\n",
        "        gdown.download(url, output, quiet=False)\n",
        "    \n",
        "    \n",
        "    train_data = DspritesDataset('/data/2d/train.npz')\n",
        "    test_data = DspritesDataset('/data/2d/test.npz')\n",
        "    \n",
        "    return train_data, test_data"
      ]
    },
    {
      "cell_type": "code",
      "execution_count": null,
      "metadata": {},
      "outputs": [],
      "source": [
        "def get_data_loaders(train_data, test_data, batch_size=32, shuffle=True, num_workers=2):\n",
        "    from src.dataset import get_dataloaders_2element\n",
        "    \n",
        "    train_loader, test_loader = get_dataloaders_2element(\n",
        "        train_data=train_data,\n",
        "        test_data=test_data,\n",
        "        batch_size=batch_size,\n",
        "        shuffle=shuffle,\n",
        "        num_workers=num_workers\n",
        "    )\n",
        "    \n",
        "    return train_loader, test_loader"
      ]
    },
    {
      "cell_type": "code",
      "execution_count": null,
      "metadata": {},
      "outputs": [],
      "source": [
        "args = SimpleNamespace(\n",
        "    # Metadata\n",
        "    exp_name=\"dev\",\n",
        "    model_name=\"maga\",\n",
        "    # Experiment\n",
        "    seed=1,\n",
        "    # File handling\n",
        "    log_dir=\"\"\n",
        "\n",
        "    # Model parameters\n",
        "    in_channels=1,\n",
        "    img_size=64,\n",
        "    latent_dim=10,\n",
        "    \n",
        "    # Dataset parameters\n",
        "    train_ratio=0.7,\n",
        "    test_ratio=0.3,\n",
        "    val_ratio=1 - train_ratio - test_ratio,\n",
        "    \n",
        "    # Training parameters\n",
        "    device=\"gpu\",\n",
        "    batch_size=32,\n",
        "    learning_rate=0.001,\n",
        "    n_epochs=3,\n",
        "    \n",
        "    # MAGA specific parameters\n",
        "    beta_kl=1,\n",
        "    beta_recon=1,\n",
        "    \n",
        "    # Evaluation parameters\n",
        "    eval_save_model_interval=1,\n",
        "    eval_interval=1,\n",
        "    eval_sample_rate=1\n",
        ")\n",
        "\n",
        "current_time = datetime.now().strftime(\"%Y%m%d_%H%M%S\")\n",
        "args.log_dir = f\"{ROOT}/outputs/run_{args.exp_name}_{args.model_name}/seed_{args.seed}_{current_time}\","
      ]
    },
    {
      "cell_type": "code",
      "execution_count": null,
      "metadata": {
        "id": "dPgarN-1R9fp"
      },
      "outputs": [],
      "source": [
        "\n",
        "\n",
        "train_data, test_data = load_datasets()\n",
        "train_loader, test_loader = get_data_loaders(train_data, test_data, batch_size=args.batch_size, shuffle=True, num_workers=2)\n",
        "registry = setup(args.model_name)\n",
        "set_seed(args.seed)\n",
        "\n",
        "# Initialize experiment\n",
        "experiment = Experiment(registry=registry, args=args)\n",
        "\n",
        "# Run experiment\n",
        "experiment.run(train_loader=train_loader, test_loader=test_loader)\n",
        "    "
      ]
    }
  ],
  "metadata": {
    "accelerator": "GPU",
    "colab": {
      "gpuType": "T4",
      "provenance": []
    },
    "kaggle": {
      "accelerator": "nvidiaTeslaT4",
      "dataSources": [
        {
          "datasetId": 6718969,
          "sourceId": 10821592,
          "sourceType": "datasetVersion"
        }
      ],
      "dockerImageVersionId": 30918,
      "isGpuEnabled": true,
      "isInternetEnabled": true,
      "language": "python",
      "sourceType": "notebook"
    },
    "kernelspec": {
      "display_name": "Python 3",
      "name": "python3"
    },
    "language_info": {
      "codemirror_mode": {
        "name": "ipython",
        "version": 3
      },
      "file_extension": ".py",
      "mimetype": "text/x-python",
      "name": "python",
      "nbconvert_exporter": "python",
      "pygments_lexer": "ipython3",
      "version": "3.10.12"
    }
  },
  "nbformat": 4,
  "nbformat_minor": 0
}
